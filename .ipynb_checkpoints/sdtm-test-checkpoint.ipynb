{
 "cells": [
  {
   "cell_type": "markdown",
   "metadata": {},
   "source": [
    "# SDTM DM dataset creation using Python\n",
    "This program can create SDTM DM SAS xpt dataset from EDC raw SAS datasets. "
   ]
  },
  {
   "cell_type": "code",
   "execution_count": 2,
   "metadata": {
    "tags": []
   },
   "outputs": [],
   "source": [
    "### Import modules\n",
    "from pandas import Series, DataFrame\n",
    "import pandas as pd\n",
    "import xport  ## write sas datasets to local drive\n",
    "from sas7bdat import SAS7BDAT  ## read SAS datasets from local drive"
   ]
  },
  {
   "cell_type": "markdown",
   "metadata": {},
   "source": [
    "## Prepare demog datasets"
   ]
  },
  {
   "cell_type": "code",
   "execution_count": 3,
   "metadata": {
    "tags": []
   },
   "outputs": [
    {
     "data": {
      "text/html": [
       "<div>\n",
       "<style scoped>\n",
       "    .dataframe tbody tr th:only-of-type {\n",
       "        vertical-align: middle;\n",
       "    }\n",
       "\n",
       "    .dataframe tbody tr th {\n",
       "        vertical-align: top;\n",
       "    }\n",
       "\n",
       "    .dataframe thead th {\n",
       "        text-align: right;\n",
       "    }\n",
       "</style>\n",
       "<table border=\"1\" class=\"dataframe\">\n",
       "  <thead>\n",
       "    <tr style=\"text-align: right;\">\n",
       "      <th></th>\n",
       "      <th>AGE</th>\n",
       "      <th>AGEU</th>\n",
       "      <th>RACEC</th>\n",
       "      <th>SITEID</th>\n",
       "      <th>STUDYID</th>\n",
       "      <th>SUBJID</th>\n",
       "      <th>SEXC</th>\n",
       "    </tr>\n",
       "  </thead>\n",
       "  <tbody>\n",
       "    <tr>\n",
       "      <th>0</th>\n",
       "      <td>63.0</td>\n",
       "      <td>YEARS</td>\n",
       "      <td>HISPANIC (MEXICAN - AMERICAN, MEXICO, CENTRAL ...</td>\n",
       "      <td>701</td>\n",
       "      <td>CDISCPILOT01</td>\n",
       "      <td>1015</td>\n",
       "      <td>Female</td>\n",
       "    </tr>\n",
       "    <tr>\n",
       "      <th>1</th>\n",
       "      <td>64.0</td>\n",
       "      <td>YEARS</td>\n",
       "      <td>HISPANIC (MEXICAN - AMERICAN, MEXICO, CENTRAL ...</td>\n",
       "      <td>701</td>\n",
       "      <td>CDISCPILOT01</td>\n",
       "      <td>1023</td>\n",
       "      <td>Male</td>\n",
       "    </tr>\n",
       "    <tr>\n",
       "      <th>2</th>\n",
       "      <td>71.0</td>\n",
       "      <td>YEARS</td>\n",
       "      <td>CAUCASIAN</td>\n",
       "      <td>701</td>\n",
       "      <td>CDISCPILOT01</td>\n",
       "      <td>1028</td>\n",
       "      <td>Male</td>\n",
       "    </tr>\n",
       "    <tr>\n",
       "      <th>3</th>\n",
       "      <td>74.0</td>\n",
       "      <td>YEARS</td>\n",
       "      <td>CAUCASIAN</td>\n",
       "      <td>701</td>\n",
       "      <td>CDISCPILOT01</td>\n",
       "      <td>1033</td>\n",
       "      <td>Male</td>\n",
       "    </tr>\n",
       "    <tr>\n",
       "      <th>4</th>\n",
       "      <td>77.0</td>\n",
       "      <td>YEARS</td>\n",
       "      <td>CAUCASIAN</td>\n",
       "      <td>701</td>\n",
       "      <td>CDISCPILOT01</td>\n",
       "      <td>1034</td>\n",
       "      <td>Female</td>\n",
       "    </tr>\n",
       "    <tr>\n",
       "      <th>...</th>\n",
       "      <td>...</td>\n",
       "      <td>...</td>\n",
       "      <td>...</td>\n",
       "      <td>...</td>\n",
       "      <td>...</td>\n",
       "      <td>...</td>\n",
       "      <td>...</td>\n",
       "    </tr>\n",
       "    <tr>\n",
       "      <th>249</th>\n",
       "      <td>78.0</td>\n",
       "      <td>YEARS</td>\n",
       "      <td>HISPANIC (MEXICAN - AMERICAN, MEXICO, CENTRAL ...</td>\n",
       "      <td>718</td>\n",
       "      <td>CDISCPILOT01</td>\n",
       "      <td>1254</td>\n",
       "      <td>Male</td>\n",
       "    </tr>\n",
       "    <tr>\n",
       "      <th>250</th>\n",
       "      <td>86.0</td>\n",
       "      <td>YEARS</td>\n",
       "      <td>CAUCASIAN</td>\n",
       "      <td>718</td>\n",
       "      <td>CDISCPILOT01</td>\n",
       "      <td>1328</td>\n",
       "      <td>Male</td>\n",
       "    </tr>\n",
       "    <tr>\n",
       "      <th>251</th>\n",
       "      <td>79.0</td>\n",
       "      <td>YEARS</td>\n",
       "      <td>CAUCASIAN</td>\n",
       "      <td>718</td>\n",
       "      <td>CDISCPILOT01</td>\n",
       "      <td>1355</td>\n",
       "      <td>Male</td>\n",
       "    </tr>\n",
       "    <tr>\n",
       "      <th>252</th>\n",
       "      <td>69.0</td>\n",
       "      <td>YEARS</td>\n",
       "      <td>CAUCASIAN</td>\n",
       "      <td>718</td>\n",
       "      <td>CDISCPILOT01</td>\n",
       "      <td>1371</td>\n",
       "      <td>Female</td>\n",
       "    </tr>\n",
       "    <tr>\n",
       "      <th>253</th>\n",
       "      <td>74.0</td>\n",
       "      <td>YEARS</td>\n",
       "      <td>AFRICAN DESCENT (NEGRO, BLACK)</td>\n",
       "      <td>718</td>\n",
       "      <td>CDISCPILOT01</td>\n",
       "      <td>1427</td>\n",
       "      <td>Female</td>\n",
       "    </tr>\n",
       "  </tbody>\n",
       "</table>\n",
       "<p>254 rows × 7 columns</p>\n",
       "</div>"
      ],
      "text/plain": [
       "      AGE   AGEU                                              RACEC SITEID  \\\n",
       "0    63.0  YEARS  HISPANIC (MEXICAN - AMERICAN, MEXICO, CENTRAL ...    701   \n",
       "1    64.0  YEARS  HISPANIC (MEXICAN - AMERICAN, MEXICO, CENTRAL ...    701   \n",
       "2    71.0  YEARS                                          CAUCASIAN    701   \n",
       "3    74.0  YEARS                                          CAUCASIAN    701   \n",
       "4    77.0  YEARS                                          CAUCASIAN    701   \n",
       "..    ...    ...                                                ...    ...   \n",
       "249  78.0  YEARS  HISPANIC (MEXICAN - AMERICAN, MEXICO, CENTRAL ...    718   \n",
       "250  86.0  YEARS                                          CAUCASIAN    718   \n",
       "251  79.0  YEARS                                          CAUCASIAN    718   \n",
       "252  69.0  YEARS                                          CAUCASIAN    718   \n",
       "253  74.0  YEARS                     AFRICAN DESCENT (NEGRO, BLACK)    718   \n",
       "\n",
       "          STUDYID SUBJID    SEXC  \n",
       "0    CDISCPILOT01   1015  Female  \n",
       "1    CDISCPILOT01   1023    Male  \n",
       "2    CDISCPILOT01   1028    Male  \n",
       "3    CDISCPILOT01   1033    Male  \n",
       "4    CDISCPILOT01   1034  Female  \n",
       "..            ...    ...     ...  \n",
       "249  CDISCPILOT01   1254    Male  \n",
       "250  CDISCPILOT01   1328    Male  \n",
       "251  CDISCPILOT01   1355    Male  \n",
       "252  CDISCPILOT01   1371  Female  \n",
       "253  CDISCPILOT01   1427  Female  \n",
       "\n",
       "[254 rows x 7 columns]"
      ]
     },
     "execution_count": 3,
     "metadata": {},
     "output_type": "execute_result"
    }
   ],
   "source": [
    "pd.read_sas('data/Raw/demog.xpt', encoding=\"utf-8\")"
   ]
  },
  {
   "cell_type": "code",
   "execution_count": 4,
   "metadata": {
    "scrolled": true,
    "tags": []
   },
   "outputs": [],
   "source": [
    "df_dm2 = pd.read_sas('data/Raw/demog.xpt', encoding=\"utf-8\")"
   ]
  },
  {
   "cell_type": "code",
   "execution_count": 5,
   "metadata": {
    "tags": []
   },
   "outputs": [],
   "source": [
    "### Prepare variables \n",
    "df_dm2['SEX'] = df_dm2.SEXC.replace(['Male','Female'], ['M','F']) # Create SEX variable\n",
    "df_dm2['DOMAIN'], df_dm2['COUNTRY'] = 'DM', 'USA' # Create varialbes DOMAIN & COUNTRY\n",
    "df_dm2['USUBJID'] = df_dm2.STUDYID + '-' + df_dm2.SITEID + '-' + df_dm2.SUBJID  # create USUBJID\n",
    "\n",
    "for index, _df1 in df_dm2.iterrows():\n",
    "    ## Create Ethnic\n",
    "    if _df1['RACEC'].__contains__('HISPANIC'):\n",
    "        df_dm2.loc[index, 'ETHNIC'] = 'HISPANIC OR LATINO'\n",
    "    else:\n",
    "        df_dm2.loc[index, 'ETHNIC'] = 'NOT HISPANIC OR LATINO'\n",
    "        \n",
    "    ## Create Race    \n",
    "    if _df1['RACEC'].__contains__('HISPANIC'):\n",
    "        df_dm2.loc[index, 'RACE'] = 'WHITE'\n",
    "    elif _df1['RACEC'].__contains__('CAUCASIAN'):\n",
    "        df_dm2.loc[index, 'RACE'] = 'WHITE'\n",
    "    elif _df1['RACEC'].__contains__('AFRICAN'):\n",
    "        df_dm2.loc[index, 'RACE'] = 'BLACK'\n",
    "    elif _df1['RACEC'].__contains__('OTHER'):\n",
    "        df_dm2.loc[index, 'RACE'] = 'OTHER'"
   ]
  },
  {
   "cell_type": "markdown",
   "metadata": {},
   "source": [
    "## Prepare Exposure dataset"
   ]
  },
  {
   "cell_type": "code",
   "execution_count": 6,
   "metadata": {
    "scrolled": true,
    "tags": []
   },
   "outputs": [],
   "source": [
    "df_ex2 = pd.read_sas('data/Raw/expo.xpt', encoding=\"utf-8\")"
   ]
  },
  {
   "cell_type": "code",
   "execution_count": 7,
   "metadata": {
    "tags": []
   },
   "outputs": [],
   "source": [
    "### Prepare exposure variables\n",
    "df_ex2['EXSTDTC'] = df_ex2['EXSTDD'] + '-' + df_ex2['EXSTMM'] + '-' + df_ex2['EXSTYY']  # exposure start date\n",
    "df_ex2['EXENDTC'] = df_ex2['EXENDD'] + '-' + df_ex2['EXENMM'] + '-' + df_ex2['EXENYY']  # exposure end date\n",
    "\n",
    "### Fine the first and last exposure date\n",
    "df_ex4 = df_ex2.sort_values(by =['SUBJID','EXSTDTC'], ascending=[True, True] )  # sort by subjid and expo date\n",
    "df_ex4_f = df_ex4.groupby('SUBJID').first()  # pick the first exposure date of the subject\n",
    "df_ex4_f2 = df_ex4_f.reset_index()  # reset index so that SUBJID is column\n",
    "df_ex4_f3 = df_ex4_f2[['SUBJID','EXSTDTC']].rename(columns={'EXSTDTC':'RFSTDTC'})  # select variables\n",
    "df_ex4_l = df_ex4.groupby('SUBJID').last()  # pick the last exposure date of the subject\n",
    "df_ex4_l2 = df_ex4_l.reset_index()  # reset index so that SUBJID is column\n",
    "df_ex4_l3 = df_ex4_l2[['SUBJID','EXENDTC']].rename(columns={'EXENDTC':'RFENDTC'})  # select variables"
   ]
  },
  {
   "cell_type": "markdown",
   "metadata": {},
   "source": [
    "### merge exposure data to demog data"
   ]
  },
  {
   "cell_type": "code",
   "execution_count": 8,
   "metadata": {
    "tags": []
   },
   "outputs": [],
   "source": [
    "### merge first and last exposure date\n",
    "df_ex5 = pd.merge(df_ex4_f3, df_ex4_l3, on='SUBJID')\n",
    "\n",
    "### merge exposure data to demog data\n",
    "df_dm3 = pd.merge(df_dm2, df_ex5, on='SUBJID', how='left')  # merge exposure information to dm"
   ]
  },
  {
   "cell_type": "markdown",
   "metadata": {},
   "source": [
    "## Prepare Randomization data"
   ]
  },
  {
   "cell_type": "code",
   "execution_count": 9,
   "metadata": {
    "scrolled": true,
    "tags": []
   },
   "outputs": [],
   "source": [
    "df_rm2 = pd.read_sas('data/Raw/rand.xpt', encoding=\"utf-8\")"
   ]
  },
  {
   "cell_type": "markdown",
   "metadata": {},
   "source": [
    "### merge randomization data to demog data"
   ]
  },
  {
   "cell_type": "code",
   "execution_count": 10,
   "metadata": {
    "tags": []
   },
   "outputs": [],
   "source": [
    "### Merge(inner join) randomization with demo by SUBJID. \n",
    "df_dm4 = pd.merge(df_dm3, df_rm2, on='SUBJID', how='left')\n",
    "df_dm4['ARM'] = df_dm4.DRUG\n",
    "df_dm4['ARMCD'] = df_dm4.ARM.replace(['Control','Study Drug'], ['C','SD'])\n",
    "df_dm4['ACTARMCD'] = df_dm4.ARMCD\n",
    "df_dm4['ACTARM'] = df_dm4.ARM"
   ]
  },
  {
   "cell_type": "markdown",
   "metadata": {},
   "source": [
    "## Prepare Dispostion data"
   ]
  },
  {
   "cell_type": "code",
   "execution_count": 11,
   "metadata": {
    "tags": []
   },
   "outputs": [],
   "source": [
    "df_ds2 = pd.read_sas('data/Raw/disp.xpt', encoding=\"utf-8\")"
   ]
  },
  {
   "cell_type": "code",
   "execution_count": 12,
   "metadata": {
    "tags": []
   },
   "outputs": [],
   "source": [
    "### Prepare dispostion data\n",
    "df_ds2['DSSTDTC'] = df_ds2['DSSTDD'] + '-' + df_ds2['DSSTMM'] + '-' + df_ds2['DSSTYY']  # dispostion date\n",
    "\n",
    "### prepare death data\n",
    "for index3, _df3 in df_ds2.iterrows(): \n",
    "    if _df3.DISP == 'DEATH':\n",
    "        df_ds2.loc[index3, 'DTHDTC'] = _df3.DSSTDTC\n",
    "        df_ds2.loc[index3, 'DTHFL'] = 'Y'\n",
    "        \n",
    "df_ds2['RFPENDTC'] = df_ds2.DSSTDTC\n",
    "df_ds4 = df_ds2[['SUBJID', 'RFPENDTC', 'DTHFL', 'DTHDTC']]\n"
   ]
  },
  {
   "cell_type": "markdown",
   "metadata": {},
   "source": [
    "### Merge dispostion data to demog data"
   ]
  },
  {
   "cell_type": "code",
   "execution_count": 13,
   "metadata": {
    "tags": []
   },
   "outputs": [],
   "source": [
    "df_dm5 = pd.merge(df_dm4, df_ds4, on='SUBJID', how='left')"
   ]
  },
  {
   "cell_type": "code",
   "execution_count": 14,
   "metadata": {
    "tags": []
   },
   "outputs": [
    {
     "name": "stderr",
     "output_type": "stream",
     "text": [
      "/tmp/ipykernel_1344/3929655202.py:2: FutureWarning: In a future version of pandas all arguments of DataFrame.drop except for the argument 'labels' will be keyword-only\n",
      "  df_dm6 = df_dm5.drop(['SEXC','RACEC','DRUG'],1)  # drop sex variable\n"
     ]
    }
   ],
   "source": [
    "### Prepare demographic data\n",
    "df_dm6 = df_dm5.drop(['SEXC','RACEC','DRUG'],1)  # drop sex variable\n",
    "df_dm6['RFXSTTDTC'], df_dm6['RFSENDTC'], df_dm6['RFICDTC'] = df_dm6.RFSTDTC, df_dm6.RFENDTC, ''  "
   ]
  },
  {
   "cell_type": "markdown",
   "metadata": {},
   "source": [
    "## Write CDISC DM dataset"
   ]
  },
  {
   "cell_type": "code",
   "execution_count": 15,
   "metadata": {
    "tags": []
   },
   "outputs": [
    {
     "name": "stderr",
     "output_type": "stream",
     "text": [
      "/opt/conda/lib/python3.9/site-packages/xport/v56.py:661: UserWarning: Converting column dtypes {'AGEU': 'string', 'SITEID': 'string', 'STUDYID': 'string', 'SUBJID': 'string', 'SEX': 'string', 'DOMAIN': 'string', 'COUNTRY': 'string', 'USUBJID': 'string', 'ETHNIC': 'string', 'RACE': 'string', 'RFSTDTC': 'string', 'RFENDTC': 'string', 'ARM': 'string', 'ARMCD': 'string', 'ACTARMCD': 'string', 'ACTARM': 'string', 'RFPENDTC': 'string', 'DTHFL': 'string', 'DTHDTC': 'string', 'RFXSTTDT': 'string', 'RFSENDTC': 'string', 'RFICDTC': 'string'}\n",
      "  warnings.warn(f'Converting column dtypes {conversions}')\n",
      "Converting column 'AGEU' from object to string\n",
      "Converting column 'SITEID' from object to string\n",
      "Converting column 'STUDYID' from object to string\n",
      "Converting column 'SUBJID' from object to string\n",
      "Converting column 'SEX' from object to string\n",
      "Converting column 'DOMAIN' from object to string\n",
      "Converting column 'COUNTRY' from object to string\n",
      "Converting column 'USUBJID' from object to string\n",
      "Converting column 'ETHNIC' from object to string\n",
      "Converting column 'RACE' from object to string\n",
      "Converting column 'RFSTDTC' from object to string\n",
      "Converting column 'RFENDTC' from object to string\n",
      "Converting column 'ARM' from object to string\n",
      "Converting column 'ARMCD' from object to string\n",
      "Converting column 'ACTARMCD' from object to string\n",
      "Converting column 'ACTARM' from object to string\n",
      "Converting column 'RFPENDTC' from object to string\n",
      "Converting column 'DTHFL' from object to string\n",
      "Converting column 'DTHDTC' from object to string\n",
      "Converting column 'RFXSTTDT' from object to string\n",
      "Converting column 'RFSENDTC' from object to string\n",
      "Converting column 'RFICDTC' from object to string\n"
     ]
    }
   ],
   "source": [
    "df_dm6 = df_dm6.rename(columns={\"RFXSTTDTC\":\"RFXSTTDT\"})\n",
    "\n",
    "with open('data/CDISC/dm.xpt', 'wb') as f:\n",
    "    xport.from_dataframe(df_dm6, f)## write DM "
   ]
  },
  {
   "cell_type": "code",
   "execution_count": null,
   "metadata": {},
   "outputs": [],
   "source": []
  }
 ],
 "metadata": {
  "anaconda-cloud": {},
  "kernelspec": {
   "display_name": "Python 3 (ipykernel)",
   "language": "python",
   "name": "python3"
  },
  "language_info": {
   "codemirror_mode": {
    "name": "ipython",
    "version": 3
   },
   "file_extension": ".py",
   "mimetype": "text/x-python",
   "name": "python",
   "nbconvert_exporter": "python",
   "pygments_lexer": "ipython3",
   "version": "3.9.16"
  }
 },
 "nbformat": 4,
 "nbformat_minor": 4
}
